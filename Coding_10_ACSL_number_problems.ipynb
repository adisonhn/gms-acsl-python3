{
  "nbformat": 4,
  "nbformat_minor": 0,
  "metadata": {
    "colab": {
      "provenance": [],
      "collapsed_sections": [],
      "authorship_tag": "ABX9TyOFJy6JDjR0zEQIlFs1VuUv",
      "include_colab_link": true
    },
    "kernelspec": {
      "name": "python3",
      "display_name": "Python 3"
    },
    "language_info": {
      "name": "python"
    }
  },
  "cells": [
    {
      "cell_type": "markdown",
      "metadata": {
        "id": "view-in-github",
        "colab_type": "text"
      },
      "source": [
        "<a href=\"https://colab.research.google.com/github/adisonhn/gms-acsl-python3/blob/master/Coding_10_ACSL_number_problems.ipynb\" target=\"_parent\"><img src=\"https://colab.research.google.com/assets/colab-badge.svg\" alt=\"Open In Colab\"/></a>"
      ]
    },
    {
      "cell_type": "markdown",
      "source": [
        "Let's look at real ACSL contest 1 problem.\n",
        "http://www.datafiles.acsl.org/samples/contest1/C_1_JR_Transform.pdf\n",
        "\n",
        "We need to extract the p-th digit (from the right) of a given number. How to do that?\n",
        "\n",
        "1. Using string indexing\n",
        "2. Using modulo math\n"
      ],
      "metadata": {
        "id": "yi0BPdLbt5Pa"
      }
    },
    {
      "cell_type": "code",
      "execution_count": null,
      "metadata": {
        "id": "CdGw3GKetjW2",
        "colab": {
          "base_uri": "https://localhost:8080/"
        },
        "outputId": "9b8d3db1-d866-4628-e782-784240e8cde5"
      },
      "outputs": [
        {
          "output_type": "stream",
          "name": "stdout",
          "text": [
            "7\n",
            "2\n"
          ]
        }
      ],
      "source": [
        "# extract p-th digit from the right\n",
        "# using string indexing\n",
        "def extract_digit(number, p):\n",
        "  str_number = str(number)\n",
        "  str_digit = str_number[-p]\n",
        "  digit = int(str_digit)\n",
        "  return digit\n",
        "\n",
        "print(extract_digit(12374, 2))\n",
        "print(extract_digit(12374, 4))"
      ]
    },
    {
      "cell_type": "code",
      "source": [
        "# extract p-th digit from the right\n",
        "# using modulo math\n",
        "def extract_digit(number, p):\n",
        "  quotient = number // 10**(p-1)\n",
        "  return quotient % 10\n",
        "\n",
        "print(extract_digit(12374, 2))\n",
        "print(extract_digit(12374, 4))"
      ],
      "metadata": {
        "colab": {
          "base_uri": "https://localhost:8080/"
        },
        "id": "K6qAF12fF4-Q",
        "outputId": "169e101f-1aeb-4a11-93e7-4c3bd3722a40"
      },
      "execution_count": null,
      "outputs": [
        {
          "output_type": "stream",
          "name": "stdout",
          "text": [
            "7\n",
            "2\n"
          ]
        }
      ]
    },
    {
      "cell_type": "markdown",
      "source": [
        "We also need to be able to set the p-th digit of a number to a particular digit value. How to do that?\n"
      ],
      "metadata": {
        "id": "D2hSIYYgGvQo"
      }
    },
    {
      "cell_type": "code",
      "source": [
        "# set p-th digit from the right\n",
        "# using string manipulation\n",
        "def set_digit(number, p, new_digit):\n",
        "  digit = extract_digit(number, p)\n",
        "  # number -= digit * 10**(p-1)\n",
        "  # number += new_digit * 10**(p-1)\n",
        "  number += (new_digit - digit) * 10**(p-1)\n",
        "  return number\n",
        "\n",
        "print(set_digit(12374, 1, 9))\n",
        "print(set_digit(12374, 2, 9))\n",
        "print(set_digit(12374, 3, 9))\n",
        "print(set_digit(12374, 4, 9))\n",
        "print(set_digit(12374, 5, 9))"
      ],
      "metadata": {
        "colab": {
          "base_uri": "https://localhost:8080/"
        },
        "id": "ar5IGq0gHA9J",
        "outputId": "3cc2c3d7-2e56-41a0-92ca-6f621c8efb8b"
      },
      "execution_count": null,
      "outputs": [
        {
          "output_type": "stream",
          "name": "stdout",
          "text": [
            "12379\n",
            "12394\n",
            "12974\n",
            "19374\n",
            "92374\n"
          ]
        }
      ]
    },
    {
      "cell_type": "markdown",
      "source": [
        "Now look at https://drive.google.com/file/d/1ylNkQGqY9Ey5KhyLpo_cirLXJ4s-j4LU/view?usp=sharing\n",
        "\n",
        "1. For Input Line #1, how many digits are in the number?\n",
        "2. For Input Line #2, what is the sum of all of the digits in the number?\n",
        "3. For Input Line #3, what is the sum of the digits at the odd locations\n",
        "(the leftmost digit is Location #1)?\n",
        "4. For Input Line #4, how many times does the digit 4 appear?\n",
        "5. For Input Line #5, what is the middle digit? (If the length of the number, N, is even,\n",
        "find the N/2 number (again, the leftmost digit is the 1st one).\n",
        "\n",
        "SAMPLE INPUT (http://www.datafiles.acsl.org/2019/contest1/jr-sample-input.txt):\n",
        "```\n",
        "1325678945\n",
        "987654\n",
        "456160\n",
        "143295823976154\n",
        "123456\n",
        "```\n",
        "SAMPLE OUTPUT:\n",
        "1. 10\n",
        "2. 39\n",
        "3. 16\n",
        "4. 2\n",
        "5. 3\n",
        "\n",
        "\n"
      ],
      "metadata": {
        "id": "D8PnAb-KJW5A"
      }
    }
  ]
}
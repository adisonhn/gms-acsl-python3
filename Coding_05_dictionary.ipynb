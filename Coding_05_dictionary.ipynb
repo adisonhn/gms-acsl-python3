{
  "nbformat": 4,
  "nbformat_minor": 0,
  "metadata": {
    "colab": {
      "provenance": [],
      "collapsed_sections": [],
      "authorship_tag": "ABX9TyP5BVktSchzDN6Up9zARLjk",
      "include_colab_link": true
    },
    "kernelspec": {
      "name": "python3",
      "display_name": "Python 3"
    },
    "language_info": {
      "name": "python"
    }
  },
  "cells": [
    {
      "cell_type": "markdown",
      "metadata": {
        "id": "view-in-github",
        "colab_type": "text"
      },
      "source": [
        "<a href=\"https://colab.research.google.com/github/adisonhn/gms-acsl-python3/blob/master/Coding_05_dictionary.ipynb\" target=\"_parent\"><img src=\"https://colab.research.google.com/assets/colab-badge.svg\" alt=\"Open In Colab\"/></a>"
      ]
    },
    {
      "cell_type": "markdown",
      "source": [
        "# Dictionary\n",
        "\n",
        "Dictionaries are used to store data values in key:value pairs."
      ],
      "metadata": {
        "id": "jeToDwsJ69jy"
      }
    },
    {
      "cell_type": "code",
      "execution_count": null,
      "metadata": {
        "colab": {
          "base_uri": "https://localhost:8080/"
        },
        "id": "Kow-E5kP66gz",
        "outputId": "a968b8f0-d8cf-42bf-f78f-e1e07c30d6f7"
      },
      "outputs": [
        {
          "output_type": "stream",
          "name": "stdout",
          "text": [
            "{'obuzayo': 102, 'ryzyko': 105, 'pensatore': 103, 'tongxin': 106}\n",
            "102\n",
            "105\n",
            "103\n",
            "106\n"
          ]
        }
      ],
      "source": [
        "# Example\n",
        "house_points = {\n",
        "    'obuzayo': 102,\n",
        "    'ryzyko': 105,\n",
        "    'pensatore': 103,\n",
        "    'tongxin': 106\n",
        "}\n",
        "\n",
        "print(house_points)\n",
        "print(house_points['obuzayo'])\n",
        "print(house_points['ryzyko'])\n",
        "print(house_points['pensatore'])\n",
        "print(house_points['tongxin'])"
      ]
    },
    {
      "cell_type": "code",
      "source": [
        "for house_name in house_points:\n",
        "  print(f'{house_name} has {house_points[house_name]} points')\n",
        "\n",
        "# Note: \n",
        "#   f'{house_name} has {house_points[house_name]} points'\n",
        "# is the same as:\n",
        "#   house_name + ' has ' + str(house_points[house_name]) + ' points'"
      ],
      "metadata": {
        "colab": {
          "base_uri": "https://localhost:8080/"
        },
        "id": "xTLX3zj9_Kxq",
        "outputId": "f753d826-53f1-43c1-d050-48336a191903"
      },
      "execution_count": null,
      "outputs": [
        {
          "output_type": "stream",
          "name": "stdout",
          "text": [
            "obuzayo has 102 points\n",
            "ryzyko has 105 points\n",
            "pensatore has 103 points\n",
            "tongxin has 106 points\n"
          ]
        }
      ]
    },
    {
      "cell_type": "code",
      "source": [
        "# this will raise an error because there's no hogwarts\n",
        "print(house_points['hogwarts'])"
      ],
      "metadata": {
        "colab": {
          "base_uri": "https://localhost:8080/",
          "height": 183
        },
        "id": "r55vmqI2Clyr",
        "outputId": "47257c6f-051d-4ac0-b36a-5eb6b8b2e78e"
      },
      "execution_count": null,
      "outputs": [
        {
          "output_type": "error",
          "ename": "KeyError",
          "evalue": "ignored",
          "traceback": [
            "\u001b[0;31m---------------------------------------------------------------------------\u001b[0m",
            "\u001b[0;31mKeyError\u001b[0m                                  Traceback (most recent call last)",
            "\u001b[0;32m<ipython-input-8-73fcee6282df>\u001b[0m in \u001b[0;36m<module>\u001b[0;34m\u001b[0m\n\u001b[1;32m      1\u001b[0m \u001b[0;31m# this will raise an error because there's no hogwarts\u001b[0m\u001b[0;34m\u001b[0m\u001b[0;34m\u001b[0m\u001b[0;34m\u001b[0m\u001b[0m\n\u001b[0;32m----> 2\u001b[0;31m \u001b[0mprint\u001b[0m\u001b[0;34m(\u001b[0m\u001b[0mhouse_points\u001b[0m\u001b[0;34m[\u001b[0m\u001b[0;34m'hogwarts'\u001b[0m\u001b[0;34m]\u001b[0m\u001b[0;34m)\u001b[0m\u001b[0;34m\u001b[0m\u001b[0;34m\u001b[0m\u001b[0m\n\u001b[0m",
            "\u001b[0;31mKeyError\u001b[0m: 'hogwarts'"
          ]
        }
      ]
    },
    {
      "cell_type": "code",
      "source": [
        "# A safer way is to first check if hogwarts is in house_points\n",
        "if 'hogwarts' in house_points:\n",
        "  print(house_points['hogwarts'])\n",
        "else:\n",
        "  print('There is no hogwarts in house_points!')"
      ],
      "metadata": {
        "colab": {
          "base_uri": "https://localhost:8080/"
        },
        "id": "oelnsL2XEUBj",
        "outputId": "0e347d20-8451-4bcc-b0f4-3d30a231107a"
      },
      "execution_count": null,
      "outputs": [
        {
          "output_type": "stream",
          "name": "stdout",
          "text": [
            "There is no hogwarts in house_points!\n"
          ]
        }
      ]
    },
    {
      "cell_type": "code",
      "source": [
        "house_points['hogwarts'] = 50\n",
        "\n",
        "print(house_points)\n",
        "# will print: {'obuzayo': 102, 'ryzyko': 105, 'pensatore': 103, 'tongxin': 106, 'hogwarts': 50}\n",
        "\n",
        "del house_points['hogwarts']\n",
        "print(house_points)\n",
        "# will print: {'obuzayo': 102, 'ryzyko': 105, 'pensatore': 103, 'tongxin': 106}\n"
      ],
      "metadata": {
        "colab": {
          "base_uri": "https://localhost:8080/"
        },
        "id": "-vmrC4slCzUz",
        "outputId": "e4e40c8a-b0f6-428e-947e-f1efa0da3476"
      },
      "execution_count": null,
      "outputs": [
        {
          "output_type": "stream",
          "name": "stdout",
          "text": [
            "{'obuzayo': 102, 'ryzyko': 105, 'pensatore': 103, 'tongxin': 106, 'hogwarts': 50}\n",
            "{'obuzayo': 102, 'ryzyko': 105, 'pensatore': 103, 'tongxin': 106}\n"
          ]
        }
      ]
    }
  ]
}
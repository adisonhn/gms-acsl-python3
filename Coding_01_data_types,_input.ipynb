{
  "nbformat": 4,
  "nbformat_minor": 0,
  "metadata": {
    "colab": {
      "provenance": [],
      "collapsed_sections": [],
      "authorship_tag": "ABX9TyNzB3TgdLdTqY2p9oM1bDkm",
      "include_colab_link": true
    },
    "kernelspec": {
      "name": "python3",
      "display_name": "Python 3"
    },
    "language_info": {
      "name": "python"
    }
  },
  "cells": [
    {
      "cell_type": "markdown",
      "metadata": {
        "id": "view-in-github",
        "colab_type": "text"
      },
      "source": [
        "<a href=\"https://colab.research.google.com/github/adisonhn/gms-acsl-python3/blob/master/Coding_01_data_types%2C_input.ipynb\" target=\"_parent\"><img src=\"https://colab.research.google.com/assets/colab-badge.svg\" alt=\"Open In Colab\"/></a>"
      ]
    },
    {
      "cell_type": "markdown",
      "source": [
        "# Basic Data Types\n",
        "\n",
        "Python supports various data types, including:\n",
        "- `int` for integers\n",
        "- `float` for floating point, which can represent real numbers\n",
        "- `bool` for boolean (i.e. `True` or `False`)\n",
        "- `str` for string (i.e. textual data)\n",
        "\n",
        "You can get the type of a variable or an expression by passing it to the `type` function.\n"
      ],
      "metadata": {
        "id": "EFQKs9U_aXSK"
      }
    },
    {
      "cell_type": "code",
      "source": [
        "print(type(123))\n",
        "print(type(100.23))\n",
        "print(type(True))\n",
        "print(type(12 < 10))\n",
        "print(type('this is a string'))"
      ],
      "metadata": {
        "colab": {
          "base_uri": "https://localhost:8080/"
        },
        "id": "8ARznZtqOPbv",
        "outputId": "99cc2c5b-015f-492d-f724-0834ecdc39ae"
      },
      "execution_count": null,
      "outputs": [
        {
          "output_type": "stream",
          "name": "stdout",
          "text": [
            "<class 'int'>\n",
            "<class 'float'>\n",
            "<class 'bool'>\n",
            "<class 'bool'>\n",
            "<class 'str'>\n"
          ]
        }
      ]
    },
    {
      "cell_type": "code",
      "execution_count": null,
      "metadata": {
        "colab": {
          "base_uri": "https://localhost:8080/"
        },
        "id": "2NupsSq58I6J",
        "outputId": "36b89026-4467-4d69-cce6-1bf9c8bbea9a"
      },
      "outputs": [
        {
          "output_type": "stream",
          "name": "stdout",
          "text": [
            "17\n"
          ]
        }
      ],
      "source": [
        "# this is an int (integer)\n",
        "a = 17\n",
        "print(a)"
      ]
    },
    {
      "cell_type": "code",
      "source": [
        "# this is a string\n",
        "b = \"17\"\n",
        "c = \"hello world\"\n",
        "print(b)\n",
        "print(c)"
      ],
      "metadata": {
        "colab": {
          "base_uri": "https://localhost:8080/"
        },
        "id": "cUVi4XFl8Yr7",
        "outputId": "6c60ae77-7fff-4f80-f4da-17823b2eda34"
      },
      "execution_count": null,
      "outputs": [
        {
          "output_type": "stream",
          "name": "stdout",
          "text": [
            "17\n",
            "hello world\n"
          ]
        }
      ]
    },
    {
      "cell_type": "markdown",
      "source": [
        "Both `a` and `b` are printed as `17`. But when we print out the `type(a)` and `type(b)`, we see tht `a` is of type `int` while `b` is of type `str`."
      ],
      "metadata": {
        "id": "VecJZX_bbepY"
      }
    },
    {
      "cell_type": "code",
      "source": [
        "print(type(a))"
      ],
      "metadata": {
        "colab": {
          "base_uri": "https://localhost:8080/"
        },
        "id": "lqAlD8Cy8w7M",
        "outputId": "ec08bc49-434c-40f2-e7f4-9c013a443eb9"
      },
      "execution_count": null,
      "outputs": [
        {
          "output_type": "stream",
          "name": "stdout",
          "text": [
            "<class 'int'>\n"
          ]
        }
      ]
    },
    {
      "cell_type": "code",
      "source": [
        "print(type(b))"
      ],
      "metadata": {
        "colab": {
          "base_uri": "https://localhost:8080/"
        },
        "id": "OGXcsO8a8zB9",
        "outputId": "1e6f78e6-189f-4d23-fd9e-ef0ee356f30e"
      },
      "execution_count": null,
      "outputs": [
        {
          "output_type": "stream",
          "name": "stdout",
          "text": [
            "<class 'str'>\n"
          ]
        }
      ]
    },
    {
      "cell_type": "code",
      "source": [
        "age = 17\n",
        "print(type(age))\n",
        "\n",
        "next_age = age + 1\n",
        "\n",
        "print(\"next year you will be\", next_age)\n",
        "\n",
        "# you can also use operator + (plus sign) to concatenate (means to join) two strings\n",
        "# see this example below... \n",
        "print(\"next year you will be \" + str(next_age))\n",
        "\n",
        "# but you cannot do this:\n",
        "# print(\"next year you will be \" + next_age)\n",
        "# because you cannot concatenate string with int. it will give you an error!\n",
        "\n",
        "# print function accepts multiple input parameters (they can be of different types)\n",
        "# and will print each one of them separated by space\n",
        "print(\"a\", \"b\", 12)\n",
        "# wlll print: a b 12"
      ],
      "metadata": {
        "colab": {
          "base_uri": "https://localhost:8080/"
        },
        "id": "Z5T2WacS84oU",
        "outputId": "fa0eb47f-cefa-4596-c062-f36b61bbff75"
      },
      "execution_count": null,
      "outputs": [
        {
          "output_type": "stream",
          "name": "stdout",
          "text": [
            "<class 'int'>\n",
            "next year you will be 18\n",
            "next year you will be 18\n",
            "a b 12\n"
          ]
        }
      ]
    },
    {
      "cell_type": "markdown",
      "source": [
        "Now let's see if the same code works when we define `age` as a `str` type.\n",
        "\n",
        "You will see that this program below will fail. Python will complain saying:\n",
        "```\n",
        "TypeError\n",
        "----> 4 next_age = age + 1\n",
        "      5 print(\"next year you will be \", next_age)\n",
        "\n",
        "TypeError: can only concatenate str (not \"int\") to str\n",
        "```\n",
        "It doesn't like the fact that you are trying to add (`+`) variable `age` (which is a `str`) with an `int` (the value `1`)."
      ],
      "metadata": {
        "id": "MPhWvBDdbziE"
      }
    },
    {
      "cell_type": "code",
      "source": [
        "age = \"17\"\n",
        "print(type(age))\n",
        "\n",
        "next_age = age + 1\n",
        "print(\"next year you will be \", next_age)"
      ],
      "metadata": {
        "colab": {
          "base_uri": "https://localhost:8080/",
          "height": 235
        },
        "id": "P560o5qn9dWj",
        "outputId": "1f5bf142-fe66-475f-db04-c7961e9095cb"
      },
      "execution_count": null,
      "outputs": [
        {
          "output_type": "stream",
          "name": "stdout",
          "text": [
            "<class 'str'>\n"
          ]
        },
        {
          "output_type": "error",
          "ename": "TypeError",
          "evalue": "ignored",
          "traceback": [
            "\u001b[0;31m---------------------------------------------------------------------------\u001b[0m",
            "\u001b[0;31mTypeError\u001b[0m                                 Traceback (most recent call last)",
            "\u001b[0;32m<ipython-input-9-aae80290a9b4>\u001b[0m in \u001b[0;36m<module>\u001b[0;34m\u001b[0m\n\u001b[1;32m      2\u001b[0m \u001b[0mprint\u001b[0m\u001b[0;34m(\u001b[0m\u001b[0mtype\u001b[0m\u001b[0;34m(\u001b[0m\u001b[0mage\u001b[0m\u001b[0;34m)\u001b[0m\u001b[0;34m)\u001b[0m\u001b[0;34m\u001b[0m\u001b[0;34m\u001b[0m\u001b[0m\n\u001b[1;32m      3\u001b[0m \u001b[0;34m\u001b[0m\u001b[0m\n\u001b[0;32m----> 4\u001b[0;31m \u001b[0mnext_age\u001b[0m \u001b[0;34m=\u001b[0m \u001b[0mage\u001b[0m \u001b[0;34m+\u001b[0m \u001b[0;36m1\u001b[0m\u001b[0;34m\u001b[0m\u001b[0;34m\u001b[0m\u001b[0m\n\u001b[0m\u001b[1;32m      5\u001b[0m \u001b[0mprint\u001b[0m\u001b[0;34m(\u001b[0m\u001b[0;34m\"next year you will be \"\u001b[0m\u001b[0;34m,\u001b[0m \u001b[0mnext_age\u001b[0m\u001b[0;34m)\u001b[0m\u001b[0;34m\u001b[0m\u001b[0;34m\u001b[0m\u001b[0m\n",
            "\u001b[0;31mTypeError\u001b[0m: can only concatenate str (not \"int\") to str"
          ]
        }
      ]
    },
    {
      "cell_type": "markdown",
      "source": [
        "# input() function\n",
        "\n",
        "You can use `input()` function to let user enter a value and capture the response as a `str` typed value.\n",
        "\n",
        "You can convert a `str` into `int` by using `int()` function."
      ],
      "metadata": {
        "id": "e_HrIgVjchpz"
      }
    },
    {
      "cell_type": "code",
      "source": [
        "age = input(\"What is your age? \")\n",
        "# at this point, age is of type str\n",
        "print(type(age))\n",
        "age = int(age) # now we convert age to become int\n",
        "print(type(age))\n",
        "\n",
        "print('You said your age is', age)\n",
        "print('Next year you will be', age + 1)"
      ],
      "metadata": {
        "colab": {
          "base_uri": "https://localhost:8080/"
        },
        "id": "KLR9Yeo09qVU",
        "outputId": "89c806d6-5560-4248-af3a-6b5d2011b4fd"
      },
      "execution_count": null,
      "outputs": [
        {
          "output_type": "stream",
          "name": "stdout",
          "text": [
            "What is your age? 17\n",
            "<class 'str'>\n",
            "<class 'int'>\n",
            "You said your age is 17\n",
            "Next year you will be 18\n"
          ]
        }
      ]
    }
  ]
}